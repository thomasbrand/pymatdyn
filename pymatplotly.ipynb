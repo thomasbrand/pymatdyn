{
 "metadata": {
  "name": "",
  "signature": "sha256:226625357eed6887e9d2589ae9d20ebc0ddefd4fe45c691bf4cb80470c27e51c"
 },
 "nbformat": 3,
 "nbformat_minor": 0,
 "worksheets": [
  {
   "cells": [
    {
     "cell_type": "code",
     "collapsed": false,
     "input": [
      "%load_ext pymatbridge"
     ],
     "language": "python",
     "metadata": {},
     "outputs": [
      {
       "output_type": "stream",
       "stream": "stdout",
       "text": [
        "Starting MATLAB on ZMQ socket ipc:///tmp/pymatbridge\n",
        "Send 'exit' command to kill the server\n",
        ".."
       ]
      },
      {
       "output_type": "stream",
       "stream": "stdout",
       "text": [
        ".."
       ]
      },
      {
       "output_type": "stream",
       "stream": "stdout",
       "text": [
        ".."
       ]
      },
      {
       "output_type": "stream",
       "stream": "stdout",
       "text": [
        ".."
       ]
      },
      {
       "output_type": "stream",
       "stream": "stdout",
       "text": [
        ".."
       ]
      },
      {
       "output_type": "stream",
       "stream": "stdout",
       "text": [
        ".."
       ]
      },
      {
       "output_type": "stream",
       "stream": "stdout",
       "text": [
        ".."
       ]
      },
      {
       "output_type": "stream",
       "stream": "stdout",
       "text": [
        ".."
       ]
      },
      {
       "output_type": "stream",
       "stream": "stdout",
       "text": [
        ".MATLAB started and connected!"
       ]
      },
      {
       "output_type": "stream",
       "stream": "stdout",
       "text": [
        "\n"
       ]
      }
     ],
     "prompt_number": 1
    },
    {
     "cell_type": "markdown",
     "metadata": {},
     "source": [
      "After lauching Matlab, just make a quick insert in shock_simul.m in the Dynare directory : use the fig2plotly function from the [plotly website](https://plot.ly/)\n",
      "The noclearall option when you use Dynare is needed to avoid this error https://github.com/arokem/python-matlab-bridge/issues/70\n",
      "(it is needed for all use with pymatbridge)"
     ]
    },
    {
     "cell_type": "code",
     "collapsed": false,
     "input": [
      "%%matlab\n",
      "dynare rbc noclearall"
     ],
     "language": "python",
     "metadata": {},
     "outputs": [
      {
       "metadata": {},
       "output_type": "display_data",
       "text": [
        "[\bWarning: Function isrow has the same name as a MATLAB builtin. We suggest you\n",
        "rename the function to avoid a potential name conflict.]\b \n",
        "[\b> In path at 109\n",
        "  In addpath at 86\n",
        "  In dynare at 39\n",
        "  In pymat_eval at 38\n",
        "  In matlabserver at 27]\b \n",
        "[\bWarning: Function isrow has the same name as a MATLAB builtin. We suggest you\n",
        "rename the function to avoid a potential name conflict.]\b \n",
        "[\b> In path at 109\n",
        "  In addpath at 86\n",
        "  In dynare_config at 49\n",
        "  In dynare at 56\n",
        "  In pymat_eval at 38\n",
        "  In matlabserver at 27]\b \n",
        "[\bWarning: Function isrow has the same name as a MATLAB builtin. We suggest you\n",
        "rename the function to avoid a potential name conflict.]\b \n",
        "[\b> In path at 109\n",
        "  In addpath at 86\n",
        "  In dynare_config at 50\n",
        "  In dynare at 56\n",
        "  In pymat_eval at 38\n",
        "  In matlabserver at 27]\b \n",
        "[\bWarning: Function isrow has the same name as a MATLAB builtin. We suggest you\n",
        "rename the function to avoid a potential name conflict.]\b \n",
        "[\b> In path at 109\n",
        "  In addpath at 86\n",
        "  In dynare_config at 51\n",
        "  In dynare at 56\n",
        "  In pymat_eval at 38\n",
        "  In matlabserver at 27]\b \n",
        "[\bWarning: Function isrow has the same name as a MATLAB builtin. We suggest you\n",
        "rename the function to avoid a potential name conflict.]\b \n",
        "[\b> In path at 109\n",
        "  In addpath at 86\n",
        "  In dynare_config at 52\n",
        "  In dynare at 56\n",
        "  In pymat_eval at 38\n",
        "  In matlabserver at 27]\b \n",
        "[\bWarning: Function isrow has the same name as a MATLAB builtin. We suggest you\n",
        "rename the function to avoid a potential name conflict.]\b \n",
        "[\b> In path at 109\n",
        "  In addpath at 86\n",
        "  In dynare_config at 53\n",
        "  In dynare at 56\n",
        "  In pymat_eval at 38\n",
        "  In matlabserver at 27]\b \n",
        "[\bWarning: Function isrow has the same name as a MATLAB builtin. We suggest you\n",
        "rename the function to avoid a potential name conflict.]\b \n",
        "[\b> In path at 109\n",
        "  In addpath at 86\n",
        "  In dynare_config at 54\n",
        "  In dynare at 56\n",
        "  In pymat_eval at 38\n",
        "  In matlabserver at 27]\b \n",
        "[\bWarning: Function isrow has the same name as a MATLAB builtin. We suggest you\n",
        "rename the function to avoid a potential name conflict.]\b \n",
        "[\b> In path at 109\n",
        "  In addpath at 86\n",
        "  In dynare_config at 55\n",
        "  In dynare at 56\n",
        "  In pymat_eval at 38\n",
        "  In matlabserver at 27]\b \n",
        "[\bWarning: Function isrow has the same name as a MATLAB builtin. We suggest you\n",
        "rename the function to avoid a potential name conflict.]\b \n",
        "[\b> In path at 109\n",
        "  In addpath at 86\n",
        "  In dynare_config at 56\n",
        "  In dynare at 56\n",
        "  In pymat_eval at 38\n",
        "  In matlabserver at 27]\b \n",
        "[\bWarning: Function isrow has the same name as a MATLAB builtin. We suggest you\n",
        "rename the function to avoid a potential name conflict.]\b \n",
        "[\b> In path at 109\n",
        "  In addpath at 86\n",
        "  In dynare_config at 57\n",
        "  In dynare at 56\n",
        "  In pymat_eval at 38\n",
        "  In matlabserver at 27]\b \n",
        "[\bWarning: Function isrow has the same name as a MATLAB builtin. We suggest you\n",
        "rename the function to avoid a potential name conflict.]\b \n",
        "[\b> In path at 109\n",
        "  In addpath at 86\n",
        "  In dynare_config at 58\n",
        "  In dynare at 56\n",
        "  In pymat_eval at 38\n",
        "  In matlabserver at 27]\b \n",
        "[\bWarning: Function isrow has the same name as a MATLAB builtin. We suggest you\n",
        "rename the function to avoid a potential name conflict.]\b \n",
        "[\b> In path at 109\n",
        "  In addpath at 86\n",
        "  In dynare_config at 59\n",
        "  In dynare at 56\n",
        "  In pymat_eval at 38\n",
        "  In matlabserver at 27]\b \n",
        "[\bWarning: Function isrow has the same name as a MATLAB builtin. We suggest you\n",
        "rename the function to avoid a potential name conflict.]\b \n",
        "[\b> In path at 109\n",
        "  In addpath at 86\n",
        "  In dynare_config at 60\n",
        "  In dynare at 56\n",
        "  In pymat_eval at 38\n",
        "  In matlabserver at 27]\b \n",
        "[\bWarning: Function isrow has the same name as a MATLAB builtin. We suggest you\n",
        "rename the function to avoid a potential name conflict.]\b \n",
        "[\b> In path at 109\n",
        "  In addpath at 86\n",
        "  In dynare_config at 61\n",
        "  In dynare at 56\n",
        "  In pymat_eval at 38\n",
        "  In matlabserver at 27]\b \n",
        "[\bWarning: Function isrow has the same name as a MATLAB builtin. We suggest you\n",
        "rename the function to avoid a potential name conflict.]\b \n",
        "[\b> In path at 109\n",
        "  In addpath at 86\n",
        "  In dynare_config at 62\n",
        "  In dynare at 56\n",
        "  In pymat_eval at 38\n",
        "  In matlabserver at 27]\b \n",
        "[\bWarning: Function isrow has the same name as a MATLAB builtin. We suggest you\n",
        "rename the function to avoid a potential name conflict.]\b \n",
        "[\b> In path at 109\n",
        "  In addpath at 86\n",
        "  In dynare_config at 63\n",
        "  In dynare at 56\n",
        "  In pymat_eval at 38\n",
        "  In matlabserver at 27]\b \n",
        "[\bWarning: Function isrow has the same name as a MATLAB builtin. We suggest you\n",
        "rename the function to avoid a potential name conflict.]\b \n",
        "[\b> In path at 109\n",
        "  In addpath at 86\n",
        "  In dynare_config at 64\n",
        "  In dynare at 56\n",
        "  In pymat_eval at 38\n",
        "  In matlabserver at 27]\b \n",
        "[\bWarning: Function isrow has the same name as a MATLAB builtin. We suggest you\n",
        "rename the function to avoid a potential name conflict.]\b \n",
        "[\b> In path at 109\n",
        "  In addpath at 86\n",
        "  In dynare_config at 65\n",
        "  In dynare at 56\n",
        "  In pymat_eval at 38\n",
        "  In matlabserver at 27]\b \n",
        "[\bWarning: Function isrow has the same name as a MATLAB builtin. We suggest you\n",
        "rename the function to avoid a potential name conflict.]\b \n",
        "[\b> In path at 109\n",
        "  In addpath at 86\n",
        "  In dynare_config at 66\n",
        "  In dynare at 56\n",
        "  In pymat_eval at 38\n",
        "  In matlabserver at 27]\b \n",
        "[\bWarning: Function isrow has the same name as a MATLAB builtin. We suggest you\n",
        "rename the function to avoid a potential name conflict.]\b \n",
        "[\b> In path at 109\n",
        "  In addpath at 86\n",
        "  In dynare_config at 73\n",
        "  In dynare at 56\n",
        "  In pymat_eval at 38\n",
        "  In matlabserver at 27]\b \n",
        "[\bWarning: Function isrow has the same name as a MATLAB builtin. We suggest you\n",
        "rename the function to avoid a potential name conflict.]\b \n",
        "[\b> In path at 109\n",
        "  In addpath at 86\n",
        "  In dynare_config at 74\n",
        "  In dynare at 56\n",
        "  In pymat_eval at 38\n",
        "  In matlabserver at 27]\b \n",
        "[\bWarning: Function isrow has the same name as a MATLAB builtin. We suggest you\n",
        "rename the function to avoid a potential name conflict.]\b \n",
        "[\b> In path at 109\n",
        "  In addpath at 86\n",
        "  In dynare_config at 76\n",
        "  In dynare at 56\n",
        "  In pymat_eval at 38\n",
        "  In matlabserver at 27]\b \n",
        "[\bWarning: Function isrow has the same name as a MATLAB builtin. We suggest you\n",
        "rename the function to avoid a potential name conflict.]\b \n",
        "[\b> In path at 109\n",
        "  In addpath at 86\n",
        "  In dynare_config at 172\n",
        "  In dynare at 56\n",
        "  In pymat_eval at 38\n",
        "  In matlabserver at 27]\b \n",
        "\n",
        "Configuring Dynare ...\n",
        "[mex] Generalized QZ.\n",
        "[mex] Sylvester equation solution.\n",
        "[mex] Kronecker products.\n",
        "[mex] Sparse kronecker products.\n",
        "[mex] Local state space iteration (second order).\n",
        "[mex] Bytecode evaluation.\n",
        "[mex] k-order perturbation solver.\n",
        "[mex] k-order solution simulation.\n",
        "[mex] Quasi Monte-Carlo sequence (Sobol).\n",
        "[no]  Markov Switching SBVAR.\n",
        "\n",
        "Starting Dynare (version 4.4.2).\n",
        "Starting preprocessing of the model file ...\n",
        "Found 7 equation(s).\n",
        "Evaluating expressions...done\n",
        "Computing static model derivatives:\n",
        " - order 1\n",
        "Computing dynamic model derivatives:\n",
        " - order 1\n",
        "Processing outputs ...done\n",
        "Preprocessing completed.\n",
        "Starting MATLAB/Octave computing.\n",
        "\n"
       ]
      }
     ],
     "prompt_number": 10
    },
    {
     "cell_type": "markdown",
     "metadata": {},
     "source": [
      "The plotly figure is stored in oo_.plotlygraph"
     ]
    },
    {
     "cell_type": "code",
     "collapsed": false,
     "input": [
      "%%matlab\n",
      "oo_.plotlygraph.url"
     ],
     "language": "python",
     "metadata": {},
     "outputs": [
      {
       "metadata": {},
       "output_type": "display_data",
       "text": [
        "\n",
        "ans =\n",
        "\n",
        "https://plot.ly/~tbrand/103\n",
        "\n"
       ]
      }
     ],
     "prompt_number": 11
    },
    {
     "cell_type": "code",
     "collapsed": false,
     "input": [
      "from IPython.display import HTML\n",
      "\n",
      "def show_plot(url, width=750, height=550):\n",
      "    s = '<iframe height=\"%s\" id=\"igraph\" scrolling=\"no\" frameborder = 0 seamless=\"seamless\" src=\"%s\" width=\"%s\"></iframe>' %\\\n",
      "    (height, \"/\".join(map(str,[url, width, height])), width)\n",
      "    return HTML(s)"
     ],
     "language": "python",
     "metadata": {},
     "outputs": [],
     "prompt_number": 2
    },
    {
     "cell_type": "code",
     "collapsed": false,
     "input": [
      "show_plot('https://plot.ly/~tbrand/103')"
     ],
     "language": "python",
     "metadata": {},
     "outputs": [
      {
       "html": [
        "<iframe height=\"550\" id=\"igraph\" scrolling=\"no\" frameborder = 0 seamless=\"seamless\" src=\"https://plot.ly/~tbrand/103/750/550\" width=\"750\"></iframe>"
       ],
       "metadata": {},
       "output_type": "pyout",
       "prompt_number": 3,
       "text": [
        "<IPython.core.display.HTML at 0x7f3e9404d810>"
       ]
      }
     ],
     "prompt_number": 3
    },
    {
     "cell_type": "code",
     "collapsed": false,
     "input": [],
     "language": "python",
     "metadata": {},
     "outputs": []
    }
   ],
   "metadata": {}
  }
 ]
}